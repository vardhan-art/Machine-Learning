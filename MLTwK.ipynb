{
 "cells": [
  {
   "cell_type": "markdown",
   "id": "41cc4aa7-2dd3-4755-af7a-990ada53c135",
   "metadata": {},
   "source": [
    "# MACHINE LEARNING PROJECT LIFECYCLEPROJECT LIFECYCLE"
   ]
  },
  {
   "cell_type": "markdown",
   "id": "d580185a-bf58-4d13-930c-fd9856e869c9",
   "metadata": {},
   "source": [
    "\n",
    "step-by-step pipeline\n",
    "\n",
    "1) Problem definition\n",
    "   Identify what problem you'ree trying to solve.\\\n",
    "2) Date Collection\n",
    "   collection of the data\n",
    "3) Data Preprocessing\n",
    "   Handle missing value ,convert datatypes.\n",
    "4) Exploratory Data Analysis(EDA)\n",
    "5) Feature Engineering\n",
    "6) Model Selection\n",
    "7) Model Evaluation\n",
    "8) Hyperparameter Tuning[improve model performance using technique]\n",
    "9) Model Deployment\n",
    "10) Monitoring and Maintenance"
   ]
  },
  {
   "cell_type": "code",
   "execution_count": null,
   "id": "8cfb6d1f-545d-4636-aa65-fe26ef822a2d",
   "metadata": {},
   "outputs": [],
   "source": []
  }
 ],
 "metadata": {
  "kernelspec": {
   "display_name": "Python 3 (ipykernel)",
   "language": "python",
   "name": "python3"
  },
  "language_info": {
   "codemirror_mode": {
    "name": "ipython",
    "version": 3
   },
   "file_extension": ".py",
   "mimetype": "text/x-python",
   "name": "python",
   "nbconvert_exporter": "python",
   "pygments_lexer": "ipython3",
   "version": "3.12.4"
  }
 },
 "nbformat": 4,
 "nbformat_minor": 5
}
