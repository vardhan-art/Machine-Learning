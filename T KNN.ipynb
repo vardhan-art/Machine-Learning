{
 "cells": [
  {
   "cell_type": "markdown",
   "id": "cd2aa86c-d41e-46e0-b707-f060d09c281b",
   "metadata": {},
   "source": [
    "# KNN Classification and Regression"
   ]
  },
  {
   "cell_type": "markdown",
   "id": "21ba8d4e-1867-4359-bb60-3382d537bc4f",
   "metadata": {},
   "source": [
    "KNN Classification and Regression\n",
    "Intuition:\n",
    "-For classification: The class of a data point is determined by the majority class among 'k' nearest neighbors.\n",
    "\n",
    "-For regression: The value is predicted by averaging the target values of 'k' nearest neighbors.\n",
    "\n",
    "===Steps:===\n",
    "1.Choose the number of neighbors k\n",
    "\n",
    "2.Calculate the distance (e.g., Euclidean) from the query point to all training points\n",
    "\n",
    "3.Select the k nearest neighbors\n",
    "\n",
    "4.Return the majority class (for classification) or mean (for regression)"
   ]
  },
  {
   "cell_type": "markdown",
   "id": "88b6ab18-8de1-4de9-a79a-0ed727adc964",
   "metadata": {},
   "source": [
    "Optimization of KNN -KDTree and BallTree\n",
    "\n",
    "KDTree: Binary tree structure optimized for low-dimensional\n",
    "\n",
    "BallTree:  for high-dimensional data"
   ]
  },
  {
   "cell_type": "markdown",
   "id": "16edd0c3-f304-46e7-bea7-f60bdb6da719",
   "metadata": {},
   "source": [
    "# KNN Classification and Regression Implementation"
   ]
  },
  {
   "cell_type": "code",
   "execution_count": 92,
   "id": "18b0b390-5cc7-464e-86cf-f304d59d3a08",
   "metadata": {},
   "outputs": [],
   "source": [
    " #KNN classifier and regressor implementation\n",
    "from sklearn.datasets import load_iris, load_diabetes\n",
    "from sklearn.model_selection import train_test_split\n",
    "from sklearn.preprocessing import StandardScaler\n",
    "from sklearn.neighbors import KNeighborsClassifier, KNeighborsRegressor\n",
    "from sklearn.metrics import accuracy_score, mean_squared_error"
   ]
  },
  {
   "cell_type": "code",
   "execution_count": 98,
   "id": "108b5f9e-88da-4547-b6f0-8e11c7bcfc45",
   "metadata": {},
   "outputs": [],
   "source": [
    "#load iris dataset for classification\n",
    "iris= load_iris()\n",
    "X_cls, y_cls = iris.data, iris.target\n",
    " #load diabetes dataset for regression\n",
    "diabetes= load_diabetes()\n",
    "X_reg, y_reg= diabetes.data, diabetes.target"
   ]
  },
  {
   "cell_type": "code",
   "execution_count": 128,
   "id": "012b8708-eaab-401f-9afd-baf76c705455",
   "metadata": {},
   "outputs": [],
   "source": [
    "#train-test split\n",
    "X_train_cls, X_test_cls, y_train_cls, y_test_cls=train_test_split(X_cls, y_cls, test_size=0.2,random_state=42)\n",
    "X_train_reg, X_test_reg, y_train_reg, y_test_reg=train_test_split(X_reg, y_reg, test_size=0.2,random_state=42)"
   ]
  },
  {
   "cell_type": "code",
   "execution_count": 130,
   "id": "baeff44c-7cea-4c8f-bf68-03de90a005b5",
   "metadata": {},
   "outputs": [],
   "source": [
    "#feautre scaling\n",
    "scaler=StandardScaler()\n",
    "X_train_cls=scaler.fit_transform(X_train_cls)\n",
    "X_test_cls=scaler.transform(X_test_cls)\n",
    "X_train_reg=scaler.fit_transform(X_train_reg)\n",
    "X_test_reg=scaler.transform(X_test_reg)"
   ]
  },
  {
   "cell_type": "code",
   "execution_count": 132,
   "id": "c85874c6-8d07-4c33-b14b-0cad4a5944ad",
   "metadata": {},
   "outputs": [
    {
     "name": "stdout",
     "output_type": "stream",
     "text": [
      "KNN classification Accuracy: 1.000000\n"
     ]
    }
   ],
   "source": [
    "#KNN Classifier\n",
    "knn_clf=KNeighborsClassifier(n_neighbors=5)\n",
    "knn_clf.fit(X_train_cls,y_train_cls)\n",
    "y_pred_cls=knn_clf.predict(X_test_cls)\n",
    "acc=accuracy_score(y_test_cls, y_pred_cls)\n",
    "print(f\"KNN classification Accuracy: {acc:2f}\")"
   ]
  },
  {
   "cell_type": "code",
   "execution_count": 134,
   "id": "3aafca61-e66b-4b66-b97a-44cc9e4d7e38",
   "metadata": {},
   "outputs": [
    {
     "name": "stdout",
     "output_type": "stream",
     "text": [
      "KNN Regression MSE: 3047.449888\n"
     ]
    }
   ],
   "source": [
    "#KNN regressor\n",
    "knn_reg=KNeighborsRegressor(n_neighbors=5)\n",
    "knn_reg.fit(X_train_reg,y_train_reg)\n",
    "y_pred_reg=knn_reg.predict(X_test_reg)\n",
    "mse=mean_squared_error(y_test_reg, y_pred_reg)\n",
    "print(f\"KNN Regression MSE: {mse:2f}\")"
   ]
  },
  {
   "cell_type": "code",
   "execution_count": null,
   "id": "a411f8e3-5504-49d3-a571-8bb6853b6150",
   "metadata": {},
   "outputs": [],
   "source": []
  },
  {
   "cell_type": "code",
   "execution_count": null,
   "id": "83e0bf05-c4ac-4f4b-bca1-dfd09f476b6e",
   "metadata": {},
   "outputs": [],
   "source": []
  },
  {
   "cell_type": "code",
   "execution_count": null,
   "id": "344cc295-8794-4901-bcf1-e2bc68e2b809",
   "metadata": {},
   "outputs": [],
   "source": []
  },
  {
   "cell_type": "code",
   "execution_count": null,
   "id": "4cb85835-58ec-4cd4-b36b-988f6a982faf",
   "metadata": {},
   "outputs": [],
   "source": []
  }
 ],
 "metadata": {
  "kernelspec": {
   "display_name": "Python 3 (ipykernel)",
   "language": "python",
   "name": "python3"
  },
  "language_info": {
   "codemirror_mode": {
    "name": "ipython",
    "version": 3
   },
   "file_extension": ".py",
   "mimetype": "text/x-python",
   "name": "python",
   "nbconvert_exporter": "python",
   "pygments_lexer": "ipython3",
   "version": "3.12.4"
  }
 },
 "nbformat": 4,
 "nbformat_minor": 5
}
